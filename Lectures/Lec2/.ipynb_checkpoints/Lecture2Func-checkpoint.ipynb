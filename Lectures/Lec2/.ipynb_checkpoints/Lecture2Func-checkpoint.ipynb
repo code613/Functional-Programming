{
 "cells": [
  {
   "cell_type": "markdown",
   "metadata": {
    "slideshow": {
     "slide_type": "slide"
    }
   },
   "source": [
    "  # Functional Programming in python\n",
    " "
   ]
  },
  {
   "cell_type": "markdown",
   "metadata": {
    "slideshow": {
     "slide_type": "fragment"
    }
   },
   "source": [
    " ## Lecture 2"
   ]
  },
  {
   "cell_type": "code",
   "execution_count": 3,
   "metadata": {
    "slideshow": {
     "slide_type": "slide"
    }
   },
   "outputs": [],
   "source": [
    "L = [300,500,'abc',[4,7,'abf']]\n",
    "L1 = L"
   ]
  },
  {
   "cell_type": "markdown",
   "metadata": {
    "slideshow": {
     "slide_type": "subslide"
    }
   },
   "source": [
    "<img src =\"image\\aliasing1.jpg\">"
   ]
  },
  {
   "cell_type": "code",
   "execution_count": 2,
   "metadata": {},
   "outputs": [
    {
     "data": {
      "text/plain": [
       "[300, 500, 'abc', [4, 7, 'abf']]"
      ]
     },
     "execution_count": 2,
     "metadata": {},
     "output_type": "execute_result"
    }
   ],
   "source": [
    "L2 = L1[:]\n",
    "L2"
   ]
  },
  {
   "cell_type": "markdown",
   "metadata": {},
   "source": [
    "<img src =\"image\\shallow.jpg\">"
   ]
  },
  {
   "cell_type": "code",
   "execution_count": 4,
   "metadata": {},
   "outputs": [
    {
     "data": {
      "text/plain": [
       "2204097346760"
      ]
     },
     "execution_count": 4,
     "metadata": {},
     "output_type": "execute_result"
    }
   ],
   "source": [
    "id(L1)"
   ]
  },
  {
   "cell_type": "code",
   "execution_count": 4,
   "metadata": {},
   "outputs": [
    {
     "data": {
      "text/plain": [
       "1365253090760"
      ]
     },
     "execution_count": 4,
     "metadata": {},
     "output_type": "execute_result"
    }
   ],
   "source": [
    "id(L2)"
   ]
  },
  {
   "cell_type": "code",
   "execution_count": 5,
   "metadata": {},
   "outputs": [
    {
     "data": {
      "text/plain": [
       "300"
      ]
     },
     "execution_count": 5,
     "metadata": {},
     "output_type": "execute_result"
    }
   ],
   "source": [
    "L1[0]"
   ]
  },
  {
   "cell_type": "code",
   "execution_count": 6,
   "metadata": {},
   "outputs": [
    {
     "data": {
      "text/plain": [
       "1365252714224"
      ]
     },
     "execution_count": 6,
     "metadata": {},
     "output_type": "execute_result"
    }
   ],
   "source": [
    "id(L1[0])"
   ]
  },
  {
   "cell_type": "code",
   "execution_count": 7,
   "metadata": {},
   "outputs": [
    {
     "data": {
      "text/plain": [
       "1365252714224"
      ]
     },
     "execution_count": 7,
     "metadata": {},
     "output_type": "execute_result"
    }
   ],
   "source": [
    "id(L2[0])"
   ]
  },
  {
   "cell_type": "code",
   "execution_count": 8,
   "metadata": {},
   "outputs": [
    {
     "data": {
      "text/plain": [
       "1365252714096"
      ]
     },
     "execution_count": 8,
     "metadata": {},
     "output_type": "execute_result"
    }
   ],
   "source": [
    "id(L1[1])"
   ]
  },
  {
   "cell_type": "code",
   "execution_count": 9,
   "metadata": {},
   "outputs": [
    {
     "data": {
      "text/plain": [
       "1365252714096"
      ]
     },
     "execution_count": 9,
     "metadata": {},
     "output_type": "execute_result"
    }
   ],
   "source": [
    "id(L2[1])"
   ]
  },
  {
   "cell_type": "code",
   "execution_count": 10,
   "metadata": {},
   "outputs": [
    {
     "data": {
      "text/plain": [
       "1365186630912"
      ]
     },
     "execution_count": 10,
     "metadata": {},
     "output_type": "execute_result"
    }
   ],
   "source": [
    "id(L1[2])"
   ]
  },
  {
   "cell_type": "code",
   "execution_count": 11,
   "metadata": {},
   "outputs": [
    {
     "data": {
      "text/plain": [
       "1365186630912"
      ]
     },
     "execution_count": 11,
     "metadata": {},
     "output_type": "execute_result"
    }
   ],
   "source": [
    "id(L2[2])"
   ]
  },
  {
   "cell_type": "code",
   "execution_count": 12,
   "metadata": {},
   "outputs": [
    {
     "data": {
      "text/plain": [
       "1365235490312"
      ]
     },
     "execution_count": 12,
     "metadata": {},
     "output_type": "execute_result"
    }
   ],
   "source": [
    "id(L1[3])"
   ]
  },
  {
   "cell_type": "code",
   "execution_count": 13,
   "metadata": {},
   "outputs": [
    {
     "data": {
      "text/plain": [
       "1365235490312"
      ]
     },
     "execution_count": 13,
     "metadata": {},
     "output_type": "execute_result"
    }
   ],
   "source": [
    "id(L2[3])"
   ]
  },
  {
   "cell_type": "code",
   "execution_count": 2,
   "metadata": {},
   "outputs": [
    {
     "ename": "NameError",
     "evalue": "name 'L1' is not defined",
     "output_type": "error",
     "traceback": [
      "\u001b[1;31m---------------------------------------------------------------------------\u001b[0m",
      "\u001b[1;31mNameError\u001b[0m                                 Traceback (most recent call last)",
      "\u001b[1;32m<ipython-input-2-5163c2dce851>\u001b[0m in \u001b[0;36m<module>\u001b[1;34m()\u001b[0m\n\u001b[1;32m----> 1\u001b[1;33m \u001b[0mL1\u001b[0m\u001b[1;33m\u001b[0m\u001b[0m\n\u001b[0m",
      "\u001b[1;31mNameError\u001b[0m: name 'L1' is not defined"
     ]
    }
   ],
   "source": [
    "L1"
   ]
  },
  {
   "cell_type": "code",
   "execution_count": 15,
   "metadata": {},
   "outputs": [
    {
     "data": {
      "text/plain": [
       "[300, 500, 'abc', [4, 7, 'abf']]"
      ]
     },
     "execution_count": 15,
     "metadata": {},
     "output_type": "execute_result"
    }
   ],
   "source": [
    "L2"
   ]
  },
  {
   "cell_type": "code",
   "execution_count": 5,
   "metadata": {},
   "outputs": [],
   "source": [
    "L1[3].append(10)"
   ]
  },
  {
   "cell_type": "markdown",
   "metadata": {},
   "source": [
    "<img src=\"image\\appending.jpg\">"
   ]
  },
  {
   "cell_type": "code",
   "execution_count": 17,
   "metadata": {},
   "outputs": [
    {
     "data": {
      "text/plain": [
       "[300, 500, 'abc', [1, 3, 'abg']]"
      ]
     },
     "execution_count": 17,
     "metadata": {},
     "output_type": "execute_result"
    }
   ],
   "source": [
    "L2[3] = [1,3,'abg']\n",
    "L2"
   ]
  },
  {
   "cell_type": "code",
   "execution_count": 18,
   "metadata": {},
   "outputs": [
    {
     "data": {
      "text/plain": [
       "[300, 500, 'abc', [4, 7, 'abf', 10]]"
      ]
     },
     "execution_count": 18,
     "metadata": {},
     "output_type": "execute_result"
    }
   ],
   "source": [
    "L1"
   ]
  },
  {
   "cell_type": "markdown",
   "metadata": {},
   "source": [
    "<img src =\"image\\shallow2.jpg\">"
   ]
  },
  {
   "cell_type": "code",
   "execution_count": null,
   "metadata": {},
   "outputs": [],
   "source": [
    "import copy\n",
    "L3 = copy.deepcopy(L1)"
   ]
  },
  {
   "cell_type": "markdown",
   "metadata": {
    "collapsed": true
   },
   "source": [
    "<img src =\"image\\deepcopy.jpg\">"
   ]
  },
  {
   "attachments": {},
   "cell_type": "markdown",
   "metadata": {},
   "source": [
    "## Files: Input\n",
    "\n",
    "|   Command                   | meanning   |\n",
    "|:----------------------------|:------------:|\n",
    "|inflobj = open(‘data’, ‘r’) | Open the file ‘data’ for input|\n",
    "|S = inflobj.read()|Read whole file into one String|\n"
   ]
  },
  {
   "cell_type": "markdown",
   "metadata": {},
   "source": [
    "<img src =\"image\\filesInput.jpg\">"
   ]
  },
  {
   "cell_type": "markdown",
   "metadata": {},
   "source": [
    "<img src =\"image\\filesOutput.jpg\">"
   ]
  },
  {
   "attachments": {},
   "cell_type": "markdown",
   "metadata": {},
   "source": [
    "## No Braces!\n",
    "<ul>\n",
    "    <li> Python uses <i><b><u>indentation</i></b></u> instead of braces to determine the scope of expressions in control flow statements, function definitions, class definitions, etc. </li>\n",
    "    <li> All lines must be indented the same amount to be part of the scope (or indented more if part of an inner scope) </li>\n",
    "    <li> This forces the programmer to use proper indentation since the indenting is part of the program! </li>\n",
    "    <li> Proper indentation must be tab-based or spaces-based, but it cannot be a mixture of tabs and spaces. </li>\n",
    "</ul>"
   ]
  },
  {
   "cell_type": "code",
   "execution_count": 19,
   "metadata": {},
   "outputs": [
    {
     "name": "stdout",
     "output_type": "stream",
     "text": [
      "y =  -0.3048106211022167\n"
     ]
    }
   ],
   "source": [
    "# %load ExamplePrograms2\\ifstatement.py\n",
    "#\n",
    "# ifstatement.py\n",
    "#\n",
    "import math \n",
    "x = 30 \n",
    "if x <= 15 :\n",
    "    y = x + 15\n",
    "elif x <= 30  :\n",
    "    y = x + 30\n",
    "else :\n",
    "    y = x\n",
    "print ('y = ', math.sin(y))\n",
    "\n"
   ]
  },
  {
   "cell_type": "code",
   "execution_count": null,
   "metadata": {},
   "outputs": [],
   "source": [
    "# %load ExamplePrograms2\\whileloop.py\n",
    "#\n",
    "# whileloop.py\n",
    "#\n",
    "x = 1\n",
    "while x < 10:\n",
    "    print (x)\n",
    "    x = x + 1\n",
    "#\n"
   ]
  },
  {
   "cell_type": "markdown",
   "metadata": {},
   "source": [
    "<img src =\"image\\LoopControl.jpg\">"
   ]
  },
  {
   "attachments": {},
   "cell_type": "markdown",
   "metadata": {},
   "source": [
    "<h2> <i>while</i> Loop <i>else</i> Clause</h2>\n"
   ]
  },
  {
   "cell_type": "markdown",
   "metadata": {},
   "source": [
    "### The optional else clause runs only if the loop exits normally (not by break)"
   ]
  },
  {
   "cell_type": "code",
   "execution_count": 10,
   "metadata": {},
   "outputs": [
    {
     "name": "stdout",
     "output_type": "stream",
     "text": [
      "1\n",
      "2\n",
      "hello\n"
     ]
    }
   ],
   "source": [
    "# %load ExamplePrograms2\\whilelse.py\n",
    "#\n",
    "# whilelse.py\n",
    "#\n",
    "x = 1\n",
    "while x < 3 :\n",
    "    print (x)\n",
    "    x = x + 1\n",
    "else:\n",
    "    print ('hello')\n"
   ]
  },
  {
   "cell_type": "code",
   "execution_count": null,
   "metadata": {},
   "outputs": [],
   "source": [
    "# %load ExamplePrograms2\\whilelse2.py\n",
    "#\n",
    "# whilelse2.py\n",
    "#\n",
    "x = 1\n",
    "y = 3\n",
    "while True:\n",
    "    if  x == y:\n",
    "      break\n",
    "    else:\n",
    "      print (x)\n",
    "    x += 1\n",
    "else :\n",
    "    print ('I got here')\n",
    "\n"
   ]
  },
  {
   "attachments": {},
   "cell_type": "markdown",
   "metadata": {},
   "source": [
    "<h2> Python <i><strong>for</strong></i> Loops </h2>"
   ]
  },
  {
   "cell_type": "markdown",
   "metadata": {},
   "source": [
    "<img src = \"image\\LoopFor.jpg\"/>"
   ]
  },
  {
   "cell_type": "code",
   "execution_count": 11,
   "metadata": {},
   "outputs": [
    {
     "data": {
      "text/plain": [
       "[0, 1, 2, 3, 4, 5, 6, 7, 8, 9]"
      ]
     },
     "execution_count": 11,
     "metadata": {},
     "output_type": "execute_result"
    }
   ],
   "source": [
    "range(10)"
   ]
  },
  {
   "cell_type": "code",
   "execution_count": null,
   "metadata": {},
   "outputs": [],
   "source": [
    "list(range(10))"
   ]
  },
  {
   "cell_type": "code",
   "execution_count": null,
   "metadata": {},
   "outputs": [],
   "source": [
    "list(range(1,10))"
   ]
  },
  {
   "cell_type": "code",
   "execution_count": 14,
   "metadata": {},
   "outputs": [
    {
     "data": {
      "text/plain": [
       "[0, 2, 4, 6, 8]"
      ]
     },
     "execution_count": 14,
     "metadata": {},
     "output_type": "execute_result"
    }
   ],
   "source": [
    "list(range(0,10,2))"
   ]
  },
  {
   "cell_type": "code",
   "execution_count": null,
   "metadata": {},
   "outputs": [],
   "source": [
    "list(range(1,10,2))"
   ]
  },
  {
   "cell_type": "code",
   "execution_count": null,
   "metadata": {},
   "outputs": [],
   "source": [
    "list(range(10,5,-1))"
   ]
  },
  {
   "cell_type": "code",
   "execution_count": null,
   "metadata": {},
   "outputs": [],
   "source": [
    "list(range(10,5,-2))"
   ]
  },
  {
   "cell_type": "code",
   "execution_count": null,
   "metadata": {},
   "outputs": [],
   "source": [
    "list(range(-1,-10,-1))"
   ]
  },
  {
   "cell_type": "code",
   "execution_count": 20,
   "metadata": {},
   "outputs": [
    {
     "name": "stdout",
     "output_type": "stream",
     "text": [
      "10\n",
      "Enter the range initial value : 1\n",
      "Enter the range stop value: 10\n",
      "Enter the range step value>: 2\n",
      "25\n"
     ]
    }
   ],
   "source": [
    "# %load ExamplePrograms2\\rangeforloop.py\n",
    "#\n",
    "# rangeforloop.py\n",
    "#\n",
    "def accFunc(init, stop, step):\n",
    "   acc = 0\n",
    "   for value in range(init, stop, step):\n",
    "      acc += value\n",
    "   return acc\n",
    "#\n",
    "acc = 0\n",
    "for i in range(5):\n",
    "   acc += i\n",
    "print (acc)\n",
    "#\n",
    "initVal = int(input(\"Enter the range initial value : \"))\n",
    "stopVal = int(input(\"Enter the range stop value: \"))\n",
    "stepVal = int(input(\"Enter the range step value>: \"))\n",
    "acc = accFunc(initVal, stopVal, stepVal)\n",
    "print (acc)\n",
    "#\n"
   ]
  },
  {
   "cell_type": "code",
   "execution_count": 24,
   "metadata": {},
   "outputs": [
    {
     "name": "stdout",
     "output_type": "stream",
     "text": [
      "Enter the iterable object to loop on : ['a','b','edf',2.0]\n",
      "['a', 'b', 'edf', 2.0]\n",
      "Enter the iterable object to loop on : (3,2,4)\n",
      "[3, 2, 4]\n",
      "Enter the iterable object to loop on : [1,2]\n",
      "You already tried this object type\n",
      "Enter the iterable object to loop on : set([1,2,3])\n",
      "[1, 2, 3]\n",
      "Enter the iterable object to loop on : dict(zip([1,2,3],['a','b','c']))\n",
      "[1, 2, 3]\n",
      "Enter the iterable object to loop on : 'dfjslkjdlfask;jl'\n",
      "['d', 'f', 'j', 's', 'l', 'k', 'j', 'd', 'l', 'f', 'a', 's', 'k', ';', 'j', 'l']\n"
     ]
    }
   ],
   "source": [
    "# %load ExamplePrograms2\\forloopOnBuiltIns.py\n",
    "#\n",
    "# forloopOnBuiltInspy\n",
    "#\n",
    "def iterableLooping(iterableObj):\n",
    "   Lout = []\n",
    "   for item in iterableObj:\n",
    "      Lout.append(item)\n",
    "   return Lout\n",
    "#\n",
    "typeSet = set([])\n",
    "for i in range(5):\n",
    "   while True:\n",
    "     Obj = eval(input(\"Enter the iterable object to loop on : \"))\n",
    "     ObjType = type(Obj)\n",
    "     if ObjType not in typeSet:\n",
    "       typeSet.add(ObjType)\n",
    "       print (iterableLooping(Obj))\n",
    "       break\n",
    "     else:\n",
    "       print (\"You already tried this object type\")\n",
    "#\n"
   ]
  },
  {
   "cell_type": "code",
   "execution_count": null,
   "metadata": {},
   "outputs": [],
   "source": [
    "# %load ExamplePrograms2\\forloops.py\n",
    "# forloops.py\n",
    "#\n",
    "# FUNCTIONS\n",
    "#\n",
    "from string import ascii_letters\n",
    "#\n",
    "def isNumber(Str):\n",
    "   idx = Str.find('.')\n",
    "   if idx == -1:\n",
    "     return Str.isdigit()\n",
    "   else:\n",
    "     return Str[:idx].isdigit() and Str[idx+1:].isdigit()\n",
    "def isActualStr(Str):\n",
    "   ascii_letters_set = set(ascii_letters + ' ')\n",
    "   strSet = set(Str)\n",
    "   return not (strSet - ascii_letters_set)\n",
    "def loopByItem(Seq, Msg):\n",
    "  print (Msg)\n",
    "  for item in Seq :\n",
    "    print (item, end=' ')\n",
    "  print ()\n",
    "  return\n",
    "def loopByIndex(Seq, Msg):\n",
    "  print (Msg)\n",
    "  for i in range(len(Seq)):\n",
    "    item = Seq[i]\n",
    "    print (item, end=' ')\n",
    "  print ()\n",
    "  return\n",
    "def loopUsingIterator(iterator, Msg):\n",
    "  print (Msg)\n",
    "  for i, item in iterator:\n",
    "    print ((i, item), end=' ')\n",
    "  print ()\n",
    "  return\n",
    "#\n",
    "# MAIN PROGRAM\n",
    "#\n",
    "while True:\n",
    " inputStr = input(\"Enter a legal value ('q' for quit): \")\n",
    " if inputStr == 'q':\n",
    "   break\n",
    " if isNumber(inputStr):\n",
    "  if inputStr.find('.') == -1:\n",
    "    print (\"The input string represents the integer number \", int(inputStr))\n",
    "  else:\n",
    "    print (\"The input string represents the float number \", float(inputStr))\n",
    " elif isActualStr(inputStr):\n",
    "  print (\"The input string is printed as it is: \", inputStr)\n",
    " else:\n",
    "  print (\"Let's evaluate the input string. \")\n",
    "  Seq = eval(inputStr)\n",
    "  print (\"Seq = \", Seq)\n",
    "  loopByItem(Seq, \"=== for loop by item ===\")\n",
    "  if isinstance(Seq,(list, tuple)):\n",
    "    loopByIndex(Seq, \"=== for loop by index ===\")\n",
    "  if isinstance(Seq,(list, tuple, set)):\n",
    "    loopUsingIterator(enumerate(Seq), \"=== for loop by index and item, using enumerate() ===\")\n",
    "  elif isinstance(Seq, dict):\n",
    "    loopUsingIterator(Seq.items(),\"=== for loop by key and value, using items() ===\")\n",
    "#  \n"
   ]
  },
  {
   "cell_type": "code",
   "execution_count": null,
   "metadata": {},
   "outputs": [],
   "source": [
    "# %load ExamplePrograms2\\elseforloop.py\n",
    "#\n",
    "# elseforloop.py\n",
    "#\n",
    "import sys\n",
    "import collections\n",
    "#\n",
    "def average(L):\n",
    "   return sum(L) / len(L)\n",
    "#\n",
    "def prtError(Msg):\n",
    "   print (Msg)\n",
    "   print ('Program is aborted')\n",
    "   return\n",
    "#\n",
    "L = eval(input('Enter a sequence of numbers: '))\n",
    "if isinstance(L, collections.Iterable):\n",
    "  print ('OK - the input ', L, ' is a sequence.')\n",
    "else:\n",
    "  prtError('ERROR - the input is not a sequence!')\n",
    "  sys.exit()\n",
    "#\n",
    "for item in L:\n",
    "   if not isinstance(item, (int, float)):\n",
    "     prtError('ERROR - the item in position ' + str(L.index(item)) + ' is not a number')\n",
    "     sys.exit()\n",
    "else :\n",
    "    print ('OK - all the items in the sequence are numbers')\n",
    "    print ('The minimum of all of them is: ', min(L))\n",
    "    print ('The maximum of all of them is: ', max(L))\n",
    "    print ('The sum of all of them is: ', sum(L))\n",
    "    print ('The average of all of them is: ', average(L))\n",
    "    \n"
   ]
  },
  {
   "cell_type": "code",
   "execution_count": null,
   "metadata": {},
   "outputs": [],
   "source": [
    "# %load ExamplePrograms2\\eratosthenes.py\n",
    "#\n",
    "# eratosthenes.py\n",
    "# The Eratosthenes' algorithm\n",
    "#\n",
    "def napa(N):\n",
    "    rishoni = [True]*N\n",
    "    rishoni[0] = False\n",
    "    # make rishoni to be an array of True values for prime numbers\n",
    "    for i in range(2,N):\n",
    "        if rishoni[i]:\n",
    "            for mlt in range(i*2,N,i):\n",
    "               rishoni[mlt]=False\n",
    "    res = []\n",
    "    for i, item in enumerate(rishoni):\n",
    "       if item:\n",
    "         res.append(i)\n",
    "    return res\n"
   ]
  }
 ],
 "metadata": {
  "kernelspec": {
   "display_name": "Python 3",
   "language": "python",
   "name": "python3"
  },
  "language_info": {
   "codemirror_mode": {
    "name": "ipython",
    "version": 3
   },
   "file_extension": ".py",
   "mimetype": "text/x-python",
   "name": "python",
   "nbconvert_exporter": "python",
   "pygments_lexer": "ipython3",
   "version": "3.6.4"
  }
 },
 "nbformat": 4,
 "nbformat_minor": 2
}
