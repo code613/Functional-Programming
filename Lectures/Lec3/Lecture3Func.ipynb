{
 "cells": [
  {
   "cell_type": "markdown",
   "metadata": {
    "slideshow": {
     "slide_type": "slide"
    }
   },
   "source": [
    "  # Functional Programming in python"
   ]
  },
  {
   "cell_type": "markdown",
   "metadata": {
    "slideshow": {
     "slide_type": "fragment"
    }
   },
   "source": [
    "# Lecture 3"
   ]
  },
  {
   "attachments": {},
   "cell_type": "markdown",
   "metadata": {},
   "source": [
    "## Functional Programming Concepts\n",
    "* What is Functional Programming?\n",
    "* Pure Functions and Referential Transparency\n",
    "* Data Immutability IN, Side-Effects OUT\n",
    "* What is a Variable?\n",
    "* Expressing Iteration as Recursion\n",
    "* Functions as First Class Objects\n",
    "* Lambda Expressions / Anonymous Functions\n",
    "* The Concept of Closure\n",
    "* High-Order Functions\n",
    "* Lazy Evaluation and Python Generators\n",
    "* Currying\n",
    "* Pipelines"
   ]
  }
 ],
 "metadata": {
  "kernelspec": {
   "display_name": "Python 3",
   "language": "python",
   "name": "python3"
  },
  "language_info": {
   "codemirror_mode": {
    "name": "ipython",
    "version": 3
   },
   "file_extension": ".py",
   "mimetype": "text/x-python",
   "name": "python",
   "nbconvert_exporter": "python",
   "pygments_lexer": "ipython3",
   "version": "3.6.4"
  }
 },
 "nbformat": 4,
 "nbformat_minor": 2
}
